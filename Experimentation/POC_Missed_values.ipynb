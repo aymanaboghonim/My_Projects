{
  "nbformat": 4,
  "nbformat_minor": 0,
  "metadata": {
    "colab": {
      "name": "POC_Missed_values.ipynb",
      "provenance": [],
      "collapsed_sections": [],
      "authorship_tag": "ABX9TyP7vfDZ4ZTFLayz80Ai+xb1",
      "include_colab_link": true
    },
    "kernelspec": {
      "name": "python3",
      "display_name": "Python 3"
    }
  },
  "cells": [
    {
      "cell_type": "markdown",
      "metadata": {
        "id": "view-in-github",
        "colab_type": "text"
      },
      "source": [
        "<a href=\"https://colab.research.google.com/github/aymanaboghonim/My_Projects/blob/main/POC_Missed_values.ipynb\" target=\"_parent\"><img src=\"https://colab.research.google.com/assets/colab-badge.svg\" alt=\"Open In Colab\"/></a>"
      ]
    },
    {
      "cell_type": "code",
      "metadata": {
        "id": "s6QGwSsRdESx"
      },
      "source": [
        "# import essintial libraries \r\n",
        "import numpy as np\r\n",
        "import pandas as pd\r\n",
        "import matplotlib.pyplot as plt\r\n",
        "import seaborn as sns\r\n",
        "\r\n",
        "%matplotlib inline\r\n",
        "# import model modules\r\n",
        "from sklearn.linear_model import LogisticRegression\r\n",
        "from sklearn.neighbors import KNeighborsClassifier\r\n",
        "from sklearn.ensemble import RandomForestClassifier, GradientBoostingClassifier\r\n",
        "\r\n",
        "# import model evaluation modules\r\n",
        "from sklearn.model_selection import train_test_split, cross_val_score\r\n",
        "from sklearn.model_selection import RandomizedSearchCV, GridSearchCV\r\n",
        "from sklearn.metrics import confusion_matrix, classification_report\r\n",
        "from sklearn.metrics import precision_score, recall_score, f1_score\r\n",
        "from sklearn.metrics import roc_curve"
      ],
      "execution_count": 1,
      "outputs": []
    },
    {
      "cell_type": "code",
      "metadata": {
        "colab": {
          "base_uri": "https://localhost:8080/",
          "height": 343
        },
        "id": "jriyNxyedK12",
        "outputId": "93a0d6cd-ce23-4761-9166-c4a388f5a9e7"
      },
      "source": [
        "data = pd.read_csv(\"heart_edited.csv\")\r\n",
        "data.head(10)"
      ],
      "execution_count": 2,
      "outputs": [
        {
          "output_type": "execute_result",
          "data": {
            "text/html": [
              "<div>\n",
              "<style scoped>\n",
              "    .dataframe tbody tr th:only-of-type {\n",
              "        vertical-align: middle;\n",
              "    }\n",
              "\n",
              "    .dataframe tbody tr th {\n",
              "        vertical-align: top;\n",
              "    }\n",
              "\n",
              "    .dataframe thead th {\n",
              "        text-align: right;\n",
              "    }\n",
              "</style>\n",
              "<table border=\"1\" class=\"dataframe\">\n",
              "  <thead>\n",
              "    <tr style=\"text-align: right;\">\n",
              "      <th></th>\n",
              "      <th>age</th>\n",
              "      <th>sex</th>\n",
              "      <th>cp</th>\n",
              "      <th>trestbps</th>\n",
              "      <th>chol</th>\n",
              "      <th>fbs</th>\n",
              "      <th>restecg</th>\n",
              "      <th>thalach</th>\n",
              "      <th>exang</th>\n",
              "      <th>oldpeak</th>\n",
              "      <th>slope</th>\n",
              "      <th>ca</th>\n",
              "      <th>thal</th>\n",
              "      <th>target</th>\n",
              "    </tr>\n",
              "  </thead>\n",
              "  <tbody>\n",
              "    <tr>\n",
              "      <th>0</th>\n",
              "      <td>63</td>\n",
              "      <td>1.0</td>\n",
              "      <td>3.0</td>\n",
              "      <td>145.0</td>\n",
              "      <td>233.0</td>\n",
              "      <td>1.0</td>\n",
              "      <td>0.0</td>\n",
              "      <td>150.0</td>\n",
              "      <td>0.0</td>\n",
              "      <td>2.3</td>\n",
              "      <td>0.0</td>\n",
              "      <td>0.0</td>\n",
              "      <td>1.0</td>\n",
              "      <td>1</td>\n",
              "    </tr>\n",
              "    <tr>\n",
              "      <th>1</th>\n",
              "      <td>37</td>\n",
              "      <td>1.0</td>\n",
              "      <td>2.0</td>\n",
              "      <td>130.0</td>\n",
              "      <td>NaN</td>\n",
              "      <td>NaN</td>\n",
              "      <td>NaN</td>\n",
              "      <td>NaN</td>\n",
              "      <td>NaN</td>\n",
              "      <td>3.5</td>\n",
              "      <td>0.0</td>\n",
              "      <td>0.0</td>\n",
              "      <td>2.0</td>\n",
              "      <td>1</td>\n",
              "    </tr>\n",
              "    <tr>\n",
              "      <th>2</th>\n",
              "      <td>41</td>\n",
              "      <td>0.0</td>\n",
              "      <td>1.0</td>\n",
              "      <td>130.0</td>\n",
              "      <td>NaN</td>\n",
              "      <td>NaN</td>\n",
              "      <td>NaN</td>\n",
              "      <td>NaN</td>\n",
              "      <td>NaN</td>\n",
              "      <td>1.4</td>\n",
              "      <td>2.0</td>\n",
              "      <td>0.0</td>\n",
              "      <td>2.0</td>\n",
              "      <td>1</td>\n",
              "    </tr>\n",
              "    <tr>\n",
              "      <th>3</th>\n",
              "      <td>56</td>\n",
              "      <td>1.0</td>\n",
              "      <td>1.0</td>\n",
              "      <td>120.0</td>\n",
              "      <td>NaN</td>\n",
              "      <td>NaN</td>\n",
              "      <td>NaN</td>\n",
              "      <td>NaN</td>\n",
              "      <td>NaN</td>\n",
              "      <td>0.8</td>\n",
              "      <td>2.0</td>\n",
              "      <td>0.0</td>\n",
              "      <td>2.0</td>\n",
              "      <td>1</td>\n",
              "    </tr>\n",
              "    <tr>\n",
              "      <th>4</th>\n",
              "      <td>57</td>\n",
              "      <td>0.0</td>\n",
              "      <td>0.0</td>\n",
              "      <td>120.0</td>\n",
              "      <td>NaN</td>\n",
              "      <td>NaN</td>\n",
              "      <td>NaN</td>\n",
              "      <td>NaN</td>\n",
              "      <td>NaN</td>\n",
              "      <td>0.6</td>\n",
              "      <td>2.0</td>\n",
              "      <td>0.0</td>\n",
              "      <td>2.0</td>\n",
              "      <td>1</td>\n",
              "    </tr>\n",
              "    <tr>\n",
              "      <th>5</th>\n",
              "      <td>57</td>\n",
              "      <td>1.0</td>\n",
              "      <td>0.0</td>\n",
              "      <td>140.0</td>\n",
              "      <td>NaN</td>\n",
              "      <td>NaN</td>\n",
              "      <td>NaN</td>\n",
              "      <td>NaN</td>\n",
              "      <td>NaN</td>\n",
              "      <td>0.4</td>\n",
              "      <td>1.0</td>\n",
              "      <td>0.0</td>\n",
              "      <td>1.0</td>\n",
              "      <td>1</td>\n",
              "    </tr>\n",
              "    <tr>\n",
              "      <th>6</th>\n",
              "      <td>56</td>\n",
              "      <td>0.0</td>\n",
              "      <td>1.0</td>\n",
              "      <td>140.0</td>\n",
              "      <td>NaN</td>\n",
              "      <td>NaN</td>\n",
              "      <td>NaN</td>\n",
              "      <td>NaN</td>\n",
              "      <td>NaN</td>\n",
              "      <td>1.3</td>\n",
              "      <td>1.0</td>\n",
              "      <td>0.0</td>\n",
              "      <td>2.0</td>\n",
              "      <td>1</td>\n",
              "    </tr>\n",
              "    <tr>\n",
              "      <th>7</th>\n",
              "      <td>44</td>\n",
              "      <td>1.0</td>\n",
              "      <td>1.0</td>\n",
              "      <td>120.0</td>\n",
              "      <td>NaN</td>\n",
              "      <td>NaN</td>\n",
              "      <td>NaN</td>\n",
              "      <td>NaN</td>\n",
              "      <td>NaN</td>\n",
              "      <td>0.0</td>\n",
              "      <td>2.0</td>\n",
              "      <td>0.0</td>\n",
              "      <td>3.0</td>\n",
              "      <td>1</td>\n",
              "    </tr>\n",
              "    <tr>\n",
              "      <th>8</th>\n",
              "      <td>52</td>\n",
              "      <td>1.0</td>\n",
              "      <td>2.0</td>\n",
              "      <td>172.0</td>\n",
              "      <td>NaN</td>\n",
              "      <td>NaN</td>\n",
              "      <td>NaN</td>\n",
              "      <td>NaN</td>\n",
              "      <td>NaN</td>\n",
              "      <td>0.5</td>\n",
              "      <td>2.0</td>\n",
              "      <td>0.0</td>\n",
              "      <td>3.0</td>\n",
              "      <td>1</td>\n",
              "    </tr>\n",
              "    <tr>\n",
              "      <th>9</th>\n",
              "      <td>57</td>\n",
              "      <td>1.0</td>\n",
              "      <td>2.0</td>\n",
              "      <td>NaN</td>\n",
              "      <td>NaN</td>\n",
              "      <td>NaN</td>\n",
              "      <td>NaN</td>\n",
              "      <td>NaN</td>\n",
              "      <td>NaN</td>\n",
              "      <td>1.6</td>\n",
              "      <td>2.0</td>\n",
              "      <td>0.0</td>\n",
              "      <td>2.0</td>\n",
              "      <td>1</td>\n",
              "    </tr>\n",
              "  </tbody>\n",
              "</table>\n",
              "</div>"
            ],
            "text/plain": [
              "   age  sex   cp  trestbps   chol  ...  oldpeak  slope   ca  thal  target\n",
              "0   63  1.0  3.0     145.0  233.0  ...      2.3    0.0  0.0   1.0       1\n",
              "1   37  1.0  2.0     130.0    NaN  ...      3.5    0.0  0.0   2.0       1\n",
              "2   41  0.0  1.0     130.0    NaN  ...      1.4    2.0  0.0   2.0       1\n",
              "3   56  1.0  1.0     120.0    NaN  ...      0.8    2.0  0.0   2.0       1\n",
              "4   57  0.0  0.0     120.0    NaN  ...      0.6    2.0  0.0   2.0       1\n",
              "5   57  1.0  0.0     140.0    NaN  ...      0.4    1.0  0.0   1.0       1\n",
              "6   56  0.0  1.0     140.0    NaN  ...      1.3    1.0  0.0   2.0       1\n",
              "7   44  1.0  1.0     120.0    NaN  ...      0.0    2.0  0.0   3.0       1\n",
              "8   52  1.0  2.0     172.0    NaN  ...      0.5    2.0  0.0   3.0       1\n",
              "9   57  1.0  2.0       NaN    NaN  ...      1.6    2.0  0.0   2.0       1\n",
              "\n",
              "[10 rows x 14 columns]"
            ]
          },
          "metadata": {
            "tags": []
          },
          "execution_count": 2
        }
      ]
    },
    {
      "cell_type": "code",
      "metadata": {
        "colab": {
          "base_uri": "https://localhost:8080/"
        },
        "id": "jn-wIPCtdX12",
        "outputId": "497d9f99-28d9-4cdb-c692-ea24f15427ee"
      },
      "source": [
        "#Lets double check the missing values  \r\n",
        "data.isna().sum()"
      ],
      "execution_count": 3,
      "outputs": [
        {
          "output_type": "execute_result",
          "data": {
            "text/plain": [
              "age           0\n",
              "sex          33\n",
              "cp           54\n",
              "trestbps     71\n",
              "chol        106\n",
              "fbs         106\n",
              "restecg     106\n",
              "thalach     106\n",
              "exang       106\n",
              "oldpeak      90\n",
              "slope        90\n",
              "ca           33\n",
              "thal         33\n",
              "target        0\n",
              "dtype: int64"
            ]
          },
          "metadata": {
            "tags": []
          },
          "execution_count": 3
        }
      ]
    },
    {
      "cell_type": "code",
      "metadata": {
        "id": "GSiSwlt4lHJ-"
      },
      "source": [
        ""
      ],
      "execution_count": null,
      "outputs": []
    },
    {
      "cell_type": "markdown",
      "metadata": {
        "id": "KszcQInPlJni"
      },
      "source": [
        "# Filling with Median"
      ]
    },
    {
      "cell_type": "code",
      "metadata": {
        "id": "myZ7RcsudcaX"
      },
      "source": [
        "data1= data.copy()"
      ],
      "execution_count": 4,
      "outputs": []
    },
    {
      "cell_type": "code",
      "metadata": {
        "id": "037lRoM8dg0N"
      },
      "source": [
        "# Fill numeric rows with the median\r\n",
        "for label, content in data1.items():\r\n",
        "  if pd.isnull(content).sum():\r\n",
        "    data1[label] = content.fillna(content.median())\r\n"
      ],
      "execution_count": 5,
      "outputs": []
    },
    {
      "cell_type": "code",
      "metadata": {
        "id": "jwjUJPHUdkZa"
      },
      "source": [
        "# Splitting data \r\n",
        "x = data1.drop(\"target\", axis = 1) \r\n",
        "# I dropped the features with least correlation which can mislead the models, and also dropped the target value\r\n",
        "\r\n",
        "y = data1[\"target\"]\r\n",
        "np.random.seed(42) # random seed for reproduciblity of the result.\r\n",
        "x_train, x_test, y_train, y_test = train_test_split(x, y, test_size = 0.2)"
      ],
      "execution_count": 6,
      "outputs": []
    },
    {
      "cell_type": "code",
      "metadata": {
        "id": "UWKlXG9Od1Wa"
      },
      "source": [
        "# put model in dictionary for easy comparing between them based on their evalution metrics.\r\n",
        "\r\n",
        "models = {\"logistic regression\": LogisticRegression(solver=\"liblinear\"),\r\n",
        "        \"KNN\": KNeighborsClassifier(),\r\n",
        "        \"Random Forest\": RandomForestClassifier(),\r\n",
        "        \"GBoost\": GradientBoostingClassifier()}\r\n",
        "# create a function to score and fit\r\n",
        "def fit_and_score(models, x_train, x_test, y_train, y_test):\r\n",
        "    \"\"\"\r\n",
        "    fit and evaluate given machine learning model\r\n",
        "    \"\"\"\r\n",
        "    # set random seed\r\n",
        "    np.random.seed(42)\r\n",
        "    # make a dictionary to store a score\r\n",
        "    model_score = {}\r\n",
        "    #loop through models\r\n",
        "    \r\n",
        "    for name,model in models.items():\r\n",
        "        #fit the model\r\n",
        "        model.fit(x_train, y_train)\r\n",
        "        #evaluate the model and append its value to model score\r\n",
        "        model_score[name] = model.score(x_test, y_test)\r\n",
        "        \r\n",
        "    return model_score"
      ],
      "execution_count": 15,
      "outputs": []
    },
    {
      "cell_type": "code",
      "metadata": {
        "id": "R1-a4L_1d9xH"
      },
      "source": [
        "model_score = fit_and_score(models=models,\r\n",
        "                            x_train = x_train,\r\n",
        "                            x_test = x_test,\r\n",
        "                            y_train = y_train,\r\n",
        "                            y_test = y_test)"
      ],
      "execution_count": 16,
      "outputs": []
    },
    {
      "cell_type": "code",
      "metadata": {
        "colab": {
          "base_uri": "https://localhost:8080/",
          "height": 310
        },
        "id": "5J34brh5eBSc",
        "outputId": "890668b5-7072-467b-87ea-c1186d63f545"
      },
      "source": [
        "# Lets visualize model_score\r\n",
        "model_comparsion = pd.DataFrame(model_score,index=[\"accuracy\"])\r\n",
        "model_comparsion.T.plot(fontsize= 20, grid= \"True\", kind = \"barh\");\r\n",
        "plt.xticks(rotation = 0)\r\n"
      ],
      "execution_count": 17,
      "outputs": [
        {
          "output_type": "execute_result",
          "data": {
            "text/plain": [
              "(array([0. , 0.1, 0.2, 0.3, 0.4, 0.5, 0.6, 0.7, 0.8, 0.9]),\n",
              " <a list of 10 Text major ticklabel objects>)"
            ]
          },
          "metadata": {
            "tags": []
          },
          "execution_count": 17
        },
        {
          "output_type": "display_data",
          "data": {
            "image/png": "[encoded data removed]",
            "text/plain": [
              "<Figure size 432x288 with 1 Axes>"
            ]
          },
          "metadata": {
            "tags": [],
            "needs_background": "light"
          }
        }
      ]
    },
    {
      "cell_type": "markdown",
      "metadata": {
        "id": "O2XDYJXDlR3T"
      },
      "source": [
        "# Filling with Mean"
      ]
    },
    {
      "cell_type": "code",
      "metadata": {
        "id": "JfidaZvGe5Lv"
      },
      "source": [
        "data2= data.copy()"
      ],
      "execution_count": 18,
      "outputs": []
    },
    {
      "cell_type": "markdown",
      "metadata": {
        "id": "-tft_Vn7lhuB"
      },
      "source": [
        ""
      ]
    },
    {
      "cell_type": "code",
      "metadata": {
        "id": "dWjRUuf4fUIW"
      },
      "source": [
        "# Fill numeric rows with the median\r\n",
        "for label, content in data2.items():\r\n",
        "  if pd.isnull(content).sum():\r\n",
        "    data2[label] = content.fillna(content.mean())\r\n"
      ],
      "execution_count": 19,
      "outputs": []
    },
    {
      "cell_type": "code",
      "metadata": {
        "id": "zUH9Z8DlffMg"
      },
      "source": [
        "# Splitting data \r\n",
        "x = data2.drop(\"target\", axis = 1) \r\n",
        "# I dropped the features with least correlation which can mislead the models, and also dropped the target value\r\n",
        "\r\n",
        "y = data2[\"target\"]\r\n",
        "np.random.seed(42) # random seed for reproduciblity of the result.\r\n",
        "x_train, x_test, y_train, y_test = train_test_split(x, y, test_size = 0.2)"
      ],
      "execution_count": 20,
      "outputs": []
    },
    {
      "cell_type": "code",
      "metadata": {
        "id": "e6LQalP5fnH3"
      },
      "source": [
        "model_score = fit_and_score(models=models,\r\n",
        "                            x_train = x_train,\r\n",
        "                            x_test = x_test,\r\n",
        "                            y_train = y_train,\r\n",
        "                            y_test = y_test)"
      ],
      "execution_count": 21,
      "outputs": []
    },
    {
      "cell_type": "code",
      "metadata": {
        "colab": {
          "base_uri": "https://localhost:8080/",
          "height": 310
        },
        "id": "-ab68iyJfsXG",
        "outputId": "27055fff-238b-410b-d51c-c07d9c51353a"
      },
      "source": [
        "# Lets visualize model_score\r\n",
        "model_comparsion = pd.DataFrame(model_score,index=[\"accuracy\"])\r\n",
        "model_comparsion.T.plot(fontsize= 20, grid= \"True\", kind = \"barh\");\r\n",
        "plt.xticks(rotation = 0)\r\n"
      ],
      "execution_count": 22,
      "outputs": [
        {
          "output_type": "execute_result",
          "data": {
            "text/plain": [
              "(array([0. , 0.2, 0.4, 0.6, 0.8, 1. ]),\n",
              " <a list of 6 Text major ticklabel objects>)"
            ]
          },
          "metadata": {
            "tags": []
          },
          "execution_count": 22
        },
        {
          "output_type": "display_data",
          "data": {
            "image/png": "[encoded data removed]",
            "text/plain": [
              "<Figure size 432x288 with 1 Axes>"
            ]
          },
          "metadata": {
            "tags": [],
            "needs_background": "light"
          }
        }
      ]
    },
    {
      "cell_type": "markdown",
      "metadata": {
        "id": "QX6R5k1slsO7"
      },
      "source": [
        "# Dropping Nan"
      ]
    },
    {
      "cell_type": "code",
      "metadata": {
        "id": "mpVNvEaefvQH"
      },
      "source": [
        "data3= data.dropna()"
      ],
      "execution_count": 30,
      "outputs": []
    },
    {
      "cell_type": "code",
      "metadata": {
        "id": "TWTAcU6egrAa"
      },
      "source": [
        ""
      ],
      "execution_count": 30,
      "outputs": []
    },
    {
      "cell_type": "code",
      "metadata": {
        "id": "ITM2mo8Ng1ER"
      },
      "source": [
        "# Splitting data \r\n",
        "x = data3.drop(\"target\", axis = 1) \r\n",
        "# I dropped the features with least correlation which can mislead the models, and also dropped the target value\r\n",
        "\r\n",
        "y = data3[\"target\"]\r\n",
        "np.random.seed(42) # random seed for reproduciblity of the result.\r\n",
        "x_train, x_test, y_train, y_test = train_test_split(x, y, test_size = 0.2)"
      ],
      "execution_count": 31,
      "outputs": []
    },
    {
      "cell_type": "code",
      "metadata": {
        "id": "JMvCkWxFg6pa"
      },
      "source": [
        "model_score = fit_and_score(models=models,\r\n",
        "                            x_train = x_train,\r\n",
        "                            x_test = x_test,\r\n",
        "                            y_train = y_train,\r\n",
        "                            y_test = y_test)"
      ],
      "execution_count": 32,
      "outputs": []
    },
    {
      "cell_type": "code",
      "metadata": {
        "colab": {
          "base_uri": "https://localhost:8080/",
          "height": 310
        },
        "id": "9jaE4KA1g9Ve",
        "outputId": "c3a6ec2b-9637-43d0-e6d3-2f982ae16888"
      },
      "source": [
        "# Lets visualize model_score\r\n",
        "model_comparsion = pd.DataFrame(model_score,index=[\"accuracy\"])\r\n",
        "model_comparsion.T.plot(fontsize= 20, grid= \"True\", kind = \"barh\");\r\n",
        "plt.xticks(rotation = 0)\r\n"
      ],
      "execution_count": 36,
      "outputs": [
        {
          "output_type": "execute_result",
          "data": {
            "text/plain": [
              "(array([0. , 0.1, 0.2, 0.3, 0.4, 0.5, 0.6, 0.7, 0.8, 0.9]),\n",
              " <a list of 10 Text major ticklabel objects>)"
            ]
          },
          "metadata": {
            "tags": []
          },
          "execution_count": 36
        },
        {
          "output_type": "display_data",
          "data": {
            "image/png": "[encoded data removed]",
            "text/plain": [
              "<Figure size 432x288 with 1 Axes>"
            ]
          },
          "metadata": {
            "tags": [],
            "needs_background": "light"
          }
        }
      ]
    },
    {
      "cell_type": "markdown",
      "metadata": {
        "id": "R4mKJiYAk4xi"
      },
      "source": [
        ""
      ]
    },
    {
      "cell_type": "code",
      "metadata": {
        "id": "xxDu3U4JhXvd"
      },
      "source": [
        ""
      ],
      "execution_count": null,
      "outputs": []
    }
  ]
}